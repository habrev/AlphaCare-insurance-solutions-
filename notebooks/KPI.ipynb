{
 "cells": [
  {
   "cell_type": "markdown",
   "metadata": {},
   "source": [
    "# KPI Matrics "
   ]
  },
  {
   "cell_type": "code",
   "execution_count": null,
   "metadata": {},
   "outputs": [],
   "source": [
    "import pandas as pd\n",
    "\n",
    "# Load the .txt file with '|' as the delimiter\n",
    "data = pd.read_csv('../assets/data/MachineLearningRating_v3.txt', delimiter='|')\n",
    "\n",
    "# Adding calculated columns for metrics\n",
    "data['ClaimFrequency'] = data['TotalClaims'] / data['TotalPremium']\n",
    "data['LossRatio'] = data['TotalClaims'] / data['TotalPremium']\n",
    "\n",
    "# 1. Risk differences across provinces\n",
    "province_kpis = data.groupby('Province').agg(\n",
    "    avg_claim_frequency=('ClaimFrequency', 'mean'),\n",
    "    avg_loss_ratio=('LossRatio', 'mean'),\n",
    "    total_claims=('TotalClaims', 'sum'),\n",
    "    total_premium=('TotalPremium', 'sum')\n",
    ").reset_index()\n",
    "\n",
    "print(\"Risk KPIs by Province:\")\n",
    "print(province_kpis)\n",
    "\n",
    "# 2. Risk differences between zip codes\n",
    "zip_code_kpis = data.groupby('PostalCode').agg(\n",
    "    avg_claim_frequency=('ClaimFrequency', 'mean'),\n",
    "    avg_loss_ratio=('LossRatio', 'mean'),\n",
    "    total_claims=('TotalClaims', 'sum'),\n",
    "    total_premium=('TotalPremium', 'sum')\n",
    ").reset_index()\n",
    "\n",
    "print(\"\\nRisk KPIs by Zip Code:\")\n",
    "print(zip_code_kpis)\n",
    "\n",
    "# 3. Margin differences between zip codes\n",
    "zip_code_margin_kpis = data.groupby('PostalCode').agg(\n",
    "    total_premium=('TotalPremium', 'sum'),\n",
    "    total_claims=('TotalClaims', 'sum')\n",
    ").reset_index()\n",
    "zip_code_margin_kpis['gross_margin_percentage'] = (\n",
    "    (zip_code_margin_kpis['total_premium'] - zip_code_margin_kpis['total_claims'])\n",
    "    / zip_code_margin_kpis['total_premium'] * 100\n",
    ")\n",
    "\n",
    "print(\"\\nMargin KPIs by Zip Code:\")\n",
    "print(zip_code_margin_kpis)\n",
    "\n",
    "# 4. Risk differences between Women and Men\n",
    "gender_kpis = data.groupby('Gender').agg(\n",
    "    avg_claim_frequency=('ClaimFrequency', 'mean'),\n",
    "    avg_loss_ratio=('LossRatio', 'mean'),\n",
    "    total_claims=('TotalClaims', 'sum'),\n",
    "    total_premium=('TotalPremium', 'sum')\n",
    ").reset_index()\n",
    "\n",
    "print(\"\\nRisk KPIs by Gender:\")\n",
    "print(gender_kpis)\n"
   ]
  },
  {
   "cell_type": "markdown",
   "metadata": {},
   "source": [
    "# Data Segmentation"
   ]
  },
  {
   "cell_type": "markdown",
   "metadata": {},
   "source": [
    "## for risk differences across provinces"
   ]
  },
  {
   "cell_type": "code",
   "execution_count": 6,
   "metadata": {},
   "outputs": [
    {
     "name": "stderr",
     "output_type": "stream",
     "text": [
      "/tmp/ipykernel_38099/1350972391.py:12: DtypeWarning: Columns (32,37) have mixed types. Specify dtype option on import or set low_memory=False.\n",
      "  data = pd.read_csv('../assets/data/MachineLearningRating_v3.txt', delimiter='|')\n"
     ]
    },
    {
     "name": "stdout",
     "output_type": "stream",
     "text": [
      "\n",
      "Risk KPIs by Province:\n",
      "  Group       Province  avg_claim_frequency  avg_loss_ratio  total_claims  \\\n",
      "0     B   Eastern Cape                  inf             inf  1.356427e+06   \n",
      "1     B     Free State                  inf             inf  3.549223e+05   \n",
      "2     B        Gauteng                  NaN             NaN  2.939415e+07   \n",
      "3     B  KwaZulu-Natal                  inf             inf  1.430138e+07   \n",
      "4     B        Limpopo                  inf             inf  1.016477e+06   \n",
      "5     B     Mpumalanga                  NaN             NaN  2.044675e+06   \n",
      "6     B     North West                  inf             inf  5.920250e+06   \n",
      "7     B  Northern Cape             0.203831        0.203831  8.949051e+04   \n",
      "8     B   Western Cape                  inf             inf  1.038977e+07   \n",
      "\n",
      "   total_premium  \n",
      "0   2.140104e+06  \n",
      "1   5.213632e+05  \n",
      "2   2.405377e+07  \n",
      "3   1.320908e+07  \n",
      "4   1.537324e+06  \n",
      "5   2.836292e+06  \n",
      "6   7.490508e+06  \n",
      "7   3.165581e+05  \n",
      "8   9.806559e+06  \n"
     ]
    }
   ],
   "source": [
    "import pandas as pd\n",
    "import sys\n",
    "sys.path.append('../scripts')\n",
    "\n",
    "from KPI_segment import calculate_kpis\n",
    "\n",
    "\n",
    "\n",
    "# Example usage in the notebook\n",
    "\n",
    "# Load your dataset (since you already load it in the notebook)\n",
    "data = pd.read_csv('../assets/data/MachineLearningRating_v3.txt', delimiter='|')\n",
    "\n",
    "# Add calculated columns for risk metrics\n",
    "data['ClaimFrequency'] = data['TotalClaims'] / data['TotalPremium']\n",
    "data['LossRatio'] = data['TotalClaims'] / data['TotalPremium']\n",
    "\n",
    "# Set the segmentation feature\n",
    "segmentation_feature = 'Province'  # Replace with your segmentation feature\n",
    "\n",
    "# Call the function to calculate KPIs\n",
    "kpi_results = calculate_kpis(data, segmentation_feature)\n",
    "\n",
    "# Print the results\n",
    "print(\"\\nRisk KPIs by Province:\")\n",
    "print(kpi_results['province_kpis'])\n",
    "\n",
    "\n",
    "\n"
   ]
  },
  {
   "cell_type": "markdown",
   "metadata": {},
   "source": [
    "## for risk differences between zip codes"
   ]
  },
  {
   "cell_type": "code",
   "execution_count": 8,
   "metadata": {},
   "outputs": [
    {
     "name": "stderr",
     "output_type": "stream",
     "text": [
      "/tmp/ipykernel_38099/1880416647.py:12: DtypeWarning: Columns (32,37) have mixed types. Specify dtype option on import or set low_memory=False.\n",
      "  data = pd.read_csv('../assets/data/MachineLearningRating_v3.txt', delimiter='|')\n"
     ]
    },
    {
     "name": "stdout",
     "output_type": "stream",
     "text": [
      "\n",
      "Risk KPIs by Zip Code:\n",
      "    Group  PostalCode  avg_claim_frequency  avg_loss_ratio   total_claims  \\\n",
      "0       B           1                  inf             inf  307583.342105   \n",
      "1       B           2             0.852758        0.852758   61885.298246   \n",
      "2       B           4             0.000000        0.000000       0.000000   \n",
      "3       B           5             0.698901        0.698901   82951.526316   \n",
      "4       B           6             0.122927        0.122927    8628.596491   \n",
      "..    ...         ...                  ...             ...            ...   \n",
      "883     B        9781                  inf             inf   89698.245614   \n",
      "884     B        9830             0.000000        0.000000       0.000000   \n",
      "885     B        9868             0.000000        0.000000       0.000000   \n",
      "886     B        9869             0.120710        0.120710    2236.842105   \n",
      "887     B        9870             0.000000        0.000000       0.000000   \n",
      "\n",
      "     total_premium  \n",
      "0    273035.326595  \n",
      "1     60861.729133  \n",
      "2      8773.975714  \n",
      "3     24661.450526  \n",
      "4     22260.230088  \n",
      "..             ...  \n",
      "883   35077.787598  \n",
      "884    7378.610100  \n",
      "885   11604.237719  \n",
      "886   63355.830081  \n",
      "887   17703.244175  \n",
      "\n",
      "[888 rows x 6 columns]\n"
     ]
    }
   ],
   "source": [
    "import pandas as pd\n",
    "import sys\n",
    "import pandas as pd  # Ensure pandas is imported\n",
    "\n",
    "# Add the path to the 'scripts' folder if it's not already in the Python path\n",
    "sys.path.append('../scripts')\n",
    "\n",
    "# Import the function from KPI_segment.py\n",
    "from KPI_segment import calculate_kpis\n",
    "\n",
    "# Example usage in the notebook\n",
    "data = pd.read_csv('../assets/data/MachineLearningRating_v3.txt', delimiter='|')\n",
    "\n",
    "# Add calculated columns for risk metrics\n",
    "data['ClaimFrequency'] = data['TotalClaims'] / data['TotalPremium']\n",
    "data['LossRatio'] = data['TotalClaims'] / data['TotalPremium']\n",
    "\n",
    "# Insert the feature for segmentation manually in the notebook\n",
    "segmentation_feature = 'PostalCode'  # Insert your specific feature here\n",
    "\n",
    "# Call the function to calculate KPIs\n",
    "kpi_results = calculate_kpis(data, segmentation_feature)\n",
    "\n",
    "# Print the results\n",
    "print(\"\\nRisk KPIs by Zip Code:\")\n",
    "print(kpi_results['zip_code_kpis'])\n"
   ]
  },
  {
   "cell_type": "markdown",
   "metadata": {},
   "source": [
    "## for Margin differences between zip codes"
   ]
  },
  {
   "cell_type": "code",
   "execution_count": 10,
   "metadata": {},
   "outputs": [
    {
     "name": "stderr",
     "output_type": "stream",
     "text": [
      "/tmp/ipykernel_38099/4032544991.py:11: DtypeWarning: Columns (32,37) have mixed types. Specify dtype option on import or set low_memory=False.\n",
      "  data = pd.read_csv('../assets/data/MachineLearningRating_v3.txt', delimiter='|')\n"
     ]
    },
    {
     "name": "stdout",
     "output_type": "stream",
     "text": [
      "\n",
      "Margin KPIs by Zip Code:\n",
      "    Group  PostalCode  total_premium   total_claims  gross_margin_percentage\n",
      "0       B           1  273035.326595  307583.342105               -12.653313\n",
      "1       B           2   60861.729133   61885.298246                -1.681794\n",
      "2       B           4    8773.975714       0.000000               100.000000\n",
      "3       B           5   24661.450526   82951.526316              -236.361100\n",
      "4       B           6   22260.230088    8628.596491                61.237613\n",
      "..    ...         ...            ...            ...                      ...\n",
      "883     B        9781   35077.787598   89698.245614              -155.712380\n",
      "884     B        9830    7378.610100       0.000000               100.000000\n",
      "885     B        9868   11604.237719       0.000000               100.000000\n",
      "886     B        9869   63355.830081    2236.842105                96.469398\n",
      "887     B        9870   17703.244175       0.000000               100.000000\n",
      "\n",
      "[888 rows x 5 columns]\n"
     ]
    }
   ],
   "source": [
    "import sys\n",
    "import pandas as pd  # Ensure pandas is imported\n",
    "\n",
    "# Add the path to the 'scripts' folder if it's not already in the Python path\n",
    "sys.path.append('../scripts')\n",
    "\n",
    "# Import the function from KPI_segment.py\n",
    "from KPI_segment import calculate_kpis\n",
    "\n",
    "# Example usage in the notebook\n",
    "data = pd.read_csv('../assets/data/MachineLearningRating_v3.txt', delimiter='|')\n",
    "\n",
    "# Add calculated columns for risk metrics\n",
    "data['ClaimFrequency'] = data['TotalClaims'] / data['TotalPremium']\n",
    "data['LossRatio'] = data['TotalClaims'] / data['TotalPremium']\n",
    "\n",
    "# Insert the feature for segmentation manually in the notebook\n",
    "segmentation_feature = 'PostalCode'  # Insert your specific feature here\n",
    "\n",
    "# Call the function to calculate KPIs\n",
    "kpi_results = calculate_kpis(data, segmentation_feature)\n",
    "\n",
    "# Print the results\n",
    "print(\"\\nMargin KPIs by Zip Code:\")\n",
    "print(kpi_results['zip_code_margin_kpis'])\n",
    "\n"
   ]
  },
  {
   "cell_type": "markdown",
   "metadata": {},
   "source": [
    "## for risk differences between Women and Men"
   ]
  },
  {
   "cell_type": "code",
   "execution_count": 12,
   "metadata": {},
   "outputs": [
    {
     "name": "stderr",
     "output_type": "stream",
     "text": [
      "/tmp/ipykernel_38099/3304006211.py:11: DtypeWarning: Columns (32,37) have mixed types. Specify dtype option on import or set low_memory=False.\n",
      "  data = pd.read_csv('../assets/data/MachineLearningRating_v3.txt', delimiter='|')\n"
     ]
    },
    {
     "name": "stdout",
     "output_type": "stream",
     "text": [
      "\n",
      "Risk KPIs by Gender:\n",
      "  Group         Gender  avg_claim_frequency  avg_loss_ratio  total_claims  \\\n",
      "0     B         Female                  inf             inf  2.502461e+05   \n",
      "1     B           Male                  inf             inf  1.396704e+06   \n",
      "2     B  Not specified                  NaN             NaN  6.271410e+07   \n",
      "\n",
      "   total_premium  \n",
      "0   3.044806e+05  \n",
      "1   1.580143e+06  \n",
      "2   5.920275e+07  \n"
     ]
    }
   ],
   "source": [
    "import sys\n",
    "import pandas as pd  # Ensure pandas is imported\n",
    "\n",
    "# Add the path to the 'scripts' folder if it's not already in the Python path\n",
    "sys.path.append('../scripts')\n",
    "\n",
    "# Import the function from KPI_segment.py\n",
    "from KPI_segment import calculate_kpis\n",
    "\n",
    "# Example usage in the notebook\n",
    "data = pd.read_csv('../assets/data/MachineLearningRating_v3.txt', delimiter='|')\n",
    "\n",
    "# Add calculated columns for risk metrics\n",
    "data['ClaimFrequency'] = data['TotalClaims'] / data['TotalPremium']\n",
    "data['LossRatio'] = data['TotalClaims'] / data['TotalPremium']\n",
    "\n",
    "# Insert the feature for segmentation manually in the notebook\n",
    "segmentation_feature = 'Gender'  # Insert your specific feature here\n",
    "\n",
    "# Call the function to calculate KPIs\n",
    "kpi_results = calculate_kpis(data, segmentation_feature)\n",
    "\n",
    "# Print the results\n",
    "print(\"\\nRisk KPIs by Gender:\")\n",
    "print(kpi_results['gender_kpis'])\n"
   ]
  },
  {
   "cell_type": "markdown",
   "metadata": {},
   "source": [
    "# Statistical Analysis"
   ]
  },
  {
   "cell_type": "code",
   "execution_count": 13,
   "metadata": {},
   "outputs": [
    {
     "ename": "ModuleNotFoundError",
     "evalue": "No module named 'scipy'",
     "output_type": "error",
     "traceback": [
      "\u001b[0;31m---------------------------------------------------------------------------\u001b[0m",
      "\u001b[0;31mModuleNotFoundError\u001b[0m                       Traceback (most recent call last)",
      "Cell \u001b[0;32mIn[13], line 1\u001b[0m\n\u001b[0;32m----> 1\u001b[0m \u001b[38;5;28;01mimport\u001b[39;00m \u001b[38;5;21;01mscipy\u001b[39;00m\u001b[38;5;21;01m.\u001b[39;00m\u001b[38;5;21;01mstats\u001b[39;00m \u001b[38;5;28;01mas\u001b[39;00m \u001b[38;5;21;01mstats\u001b[39;00m\n\u001b[1;32m      3\u001b[0m \u001b[38;5;66;03m# Statistical Testing Function\u001b[39;00m\n\u001b[1;32m      5\u001b[0m \u001b[38;5;28;01mdef\u001b[39;00m \u001b[38;5;21mconduct_statistical_test\u001b[39m(data, segmentation_feature, metric):\n",
      "\u001b[0;31mModuleNotFoundError\u001b[0m: No module named 'scipy'"
     ]
    }
   ],
   "source": [
    "import scipy.stats as stats\n",
    "\n",
    "# Statistical Testing Function\n",
    "\n",
    "def conduct_statistical_test(data, segmentation_feature, metric):\n",
    "    \"\"\"\n",
    "   \n",
    "    Parameters:\n",
    "    - data: DataFrame containing the data\n",
    "    - segmentation_feature: The feature used for segmentation (e.g., 'Province', 'Gender')\n",
    "    - metric: The metric you're testing (e.g., 'ClaimFrequency', 'LossRatio')\n",
    "    \n",
    "    Returns:\n",
    "    - p_value: The p-value from the statistical test\n",
    "    - test_result: The result of the hypothesis test (Reject/Fail to Reject Null Hypothesis)\n",
    "    \"\"\"\n",
    "    \n",
    "    # First, check if the feature is categorical or numerical\n",
    "    if data[segmentation_feature].dtype == 'object' or len(data[segmentation_feature].unique()) <= 10:\n",
    "        # Chi-squared test for categorical data\n",
    "        # Create contingency table for the feature and the metric\n",
    "        contingency_table = pd.crosstab(data[segmentation_feature], data[metric])\n",
    "        \n",
    "        # Perform Chi-squared test\n",
    "        chi2, p_value, dof, expected = stats.chi2_contingency(contingency_table)\n",
    "        \n",
    "        test_result = \"Reject Null Hypothesis\" if p_value < 0.05 else \"Fail to Reject Null Hypothesis\"\n",
    "    \n",
    "    else:\n",
    "        # T-test or ANOVA for numerical data\n",
    "        # Group data by the segmentation feature (e.g., Gender, PostalCode, Province)\n",
    "        groups = data.groupby(segmentation_feature)[metric].apply(list)\n",
    "        \n",
    "        if len(groups) == 2:\n",
    "            # T-test for two groups\n",
    "            t_stat, p_value = stats.ttest_ind(groups.iloc[0], groups.iloc[1])\n",
    "        else:\n",
    "            # ANOVA for more than two groups\n",
    "            f_stat, p_value = stats.f_oneway(*groups)\n",
    "        \n",
    "        test_result = \"Reject Null Hypothesis\" if p_value < 0.05 else \"Fail to Reject Null Hypothesis\"\n",
    "    \n",
    "    return p_value, test_result\n",
    "\n",
    "\n",
    "# Example usage:\n",
    "\n",
    "# 1. Risk differences across provinces (ClaimFrequency as a metric)\n",
    "p_value, result = conduct_statistical_test(data, 'Province', 'ClaimFrequency')\n",
    "print(f\"Risk differences across provinces - P-value: {p_value}, Result: {result}\")\n",
    "\n",
    "# 2. Risk differences between zip codes (LossRatio as a metric)\n",
    "p_value, result = conduct_statistical_test(data, 'PostalCode', 'LossRatio')\n",
    "print(f\"Risk differences between zip codes - P-value: {p_value}, Result: {result}\")\n",
    "\n",
    "# 3. Margin differences between zip codes (Gross Margin Percentage as a metric)\n",
    "p_value, result = conduct_statistical_test(data, 'PostalCode', 'gross_margin_percentage')\n",
    "print(f\"Margin differences between zip codes - P-value: {p_value}, Result: {result}\")\n",
    "\n",
    "# 4. Risk differences between Women and Men (ClaimFrequency as a metric)\n",
    "p_value, result = conduct_statistical_test(data, 'Gender', 'ClaimFrequency')\n",
    "print(f\"Risk differences between Women and Men - P-value: {p_value}, Result: {result}\")\n"
   ]
  },
  {
   "cell_type": "code",
   "execution_count": null,
   "metadata": {},
   "outputs": [],
   "source": []
  }
 ],
 "metadata": {
  "kernelspec": {
   "display_name": ".venv",
   "language": "python",
   "name": "python3"
  },
  "language_info": {
   "codemirror_mode": {
    "name": "ipython",
    "version": 3
   },
   "file_extension": ".py",
   "mimetype": "text/x-python",
   "name": "python",
   "nbconvert_exporter": "python",
   "pygments_lexer": "ipython3",
   "version": "3.10.12"
  }
 },
 "nbformat": 4,
 "nbformat_minor": 2
}
